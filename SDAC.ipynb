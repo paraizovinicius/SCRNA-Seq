{
 "cells": [
  {
   "cell_type": "markdown",
   "id": "14820b03",
   "metadata": {},
   "source": [
    "# 10 Agrupamento Semi-Supervisionado\n",
    "\n",
    "Objetivo: Investigar a aplicação do algoritmo SDAC (Semi-supervised Discriminative Analysis\n",
    "Clustering) para o agrupamento de dados de expressão gênica, utilizando rótulos parciais\n",
    "como forma de orientação na formação de grupos biologicamente coerentes.\n",
    "\n",
    "Atividades sugeridas:\n",
    "- Estudar o algoritmo SDAC e entender como ele combina aprendizado supervisionado e\n",
    "não supervisionado.\n",
    "- Obter e preparar um conjunto de dados de expressão gênica (por exemplo, datasets de\n",
    "câncer disponíveis no repositório GEO ou TCGA).\n",
    "- Separar uma fração pequena dos exemplos com rótulo para uso como supervisão parcial.\n",
    "- Aplicar o algoritmo SDAC ao conjunto de dados e comparar os resultados com métodos\n",
    "tradicionais de agrupamento (e.g., K-Means, Spectral Clustering).\n",
    "- Avaliar os agrupamentos com métricas como ARI (Adjusted Rand Index) e NMI (Normalized\n",
    "Mutual Information), além de discutir a coerência biológica dos grupos formados.\n",
    "\n",
    "\n",
    "Sugestão de dados:\n",
    "- GEO: GSE2034 (dados de câncer de mama)\n",
    "- TCGA-BRCA (via TCGAbiolinks ou UCSC Xena)"
   ]
  },
  {
   "cell_type": "code",
   "execution_count": null,
   "id": "600e84d5",
   "metadata": {},
   "outputs": [
    {
     "name": "stdout",
     "output_type": "stream",
     "text": [
      "Shape: (22283, 287)\n",
      "\n",
      "           ID_REF  GSM36777  GSM36778  GSM36779  GSM36780  GSM36781  GSM36782  \\\n",
      "1007_s_at  3848.1    6520.9    5285.7    4043.7    4263.6    2949.8    5498.9   \n",
      "1053_at     228.9     112.5     178.4     398.7     417.7     221.2     280.4   \n",
      "117_at      213.1     189.8     269.7     312.4     327.1     225.0     243.5   \n",
      "121_at     1009.4    2083.3    1203.4    1104.4    1043.3    1117.6    1085.4   \n",
      "1255_g_at    31.8     145.8      42.5     108.2      69.2      47.4      84.3   \n",
      "\n",
      "           GSM36783  GSM36784  GSM36785  ...  GSM37053  GSM37054  GSM37055  \\\n",
      "1007_s_at    3863.1    3370.4    3991.9  ...    4017.6    2841.0    2914.2   \n",
      "1053_at       198.2     304.7     198.2  ...     356.1     234.6     169.4   \n",
      "117_at        244.4     348.5     185.3  ...     234.9     369.6     149.5   \n",
      "121_at       1423.1    1196.4     993.3  ...    1195.6     751.5    1117.8   \n",
      "1255_g_at     102.0      22.8      86.3  ...      32.7      62.6      43.0   \n",
      "\n",
      "           GSM37056  GSM37057  GSM37058  GSM37059  GSM37060  GSM37061  \\\n",
      "1007_s_at    3681.0    3066.9    2773.0    2984.3    3540.0    2620.0   \n",
      "1053_at        94.5     265.5     209.8     160.0     285.7     180.5   \n",
      "117_at        236.4     347.9     226.7     252.9     135.1     191.8   \n",
      "121_at       1022.4    1127.4    1071.8    1178.5    1256.7    1284.6   \n",
      "1255_g_at     100.5      47.0      45.1     146.3      75.9      87.4   \n",
      "\n",
      "           GSM37062  \n",
      "1007_s_at       NaN  \n",
      "1053_at         NaN  \n",
      "117_at          NaN  \n",
      "121_at          NaN  \n",
      "1255_g_at       NaN  \n",
      "\n",
      "[5 rows x 287 columns]\n"
     ]
    }
   ],
   "source": [
    "import pandas as pd\n",
    "\n",
    "# Data from breast cancer\n",
    "file_path = \"GSE2034-22071.txt\"\n",
    "\n",
    "# Skip the first 287 lines and load the rest as a pd.DataFrame\n",
    "df = pd.read_csv(file_path, delimiter=\"\\t\", skiprows=287)\n",
    "\n",
    "df.index.name = 'ID_REF'\n",
    "\n",
    "for i, column in enumerate(df.columns):\n",
    "    \n",
    "\n",
    "\n",
    "# Show the first few rows\n",
    "print(f\"Shape: {df.shape}\\n\")\n",
    "print(df.head()) # está imprimindo errado\n",
    "\n",
    "# We can see that the data has HIGH dimensionality by its shape (286 columns)\n"
   ]
  },
  {
   "cell_type": "code",
   "execution_count": null,
   "id": "b776bec2",
   "metadata": {},
   "outputs": [],
   "source": [
    "sample_map = {}\n",
    "with open(file_path, 'r') as f:\n",
    "    for _ in range(287):\n",
    "        line = f.readline().strip()\n",
    "        if line.startswith(\"#GSM\"):\n",
    "            gsm, sample = line[1:].split(\" = \")\n",
    "            sample_map[gsm] = sample\n"
   ]
  }
 ],
 "metadata": {
  "kernelspec": {
   "display_name": "base",
   "language": "python",
   "name": "python3"
  },
  "language_info": {
   "codemirror_mode": {
    "name": "ipython",
    "version": 3
   },
   "file_extension": ".py",
   "mimetype": "text/x-python",
   "name": "python",
   "nbconvert_exporter": "python",
   "pygments_lexer": "ipython3",
   "version": "3.12.7"
  }
 },
 "nbformat": 4,
 "nbformat_minor": 5
}
